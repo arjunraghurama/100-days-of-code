{
  "nbformat": 4,
  "nbformat_minor": 0,
  "metadata": {
    "colab": {
      "name": "Untitled4.ipynb",
      "provenance": [],
      "authorship_tag": "ABX9TyOdFUW3Fi3ZbIsQR4uzTaR6",
      "include_colab_link": true
    },
    "kernelspec": {
      "name": "python3",
      "display_name": "Python 3"
    }
  },
  "cells": [
    {
      "cell_type": "markdown",
      "metadata": {
        "id": "view-in-github",
        "colab_type": "text"
      },
      "source": [
        "<a href=\"https://colab.research.google.com/github/arjunraghurama/100-days-of-code/blob/main/2.searchInSortedMatrix.ipynb\" target=\"_parent\"><img src=\"https://colab.research.google.com/assets/colab-badge.svg\" alt=\"Open In Colab\"/></a>"
      ]
    },
    {
      "cell_type": "markdown",
      "metadata": {
        "id": "j0JLVubdvskL"
      },
      "source": [
        "Search for an element in sorted matrix\n",
        "https://leetcode.com/problems/search-a-2d-matrix/"
      ]
    },
    {
      "cell_type": "code",
      "metadata": {
        "id": "KhFeY2OCv9mq"
      },
      "source": [
        "def searchInMatrix(matrix, target):\n",
        "  if(len(matrix)==0):\n",
        "    return False\n",
        "  rows = len(matrix)\n",
        "  columns = len(matrix[0])\n",
        "  low = 0\n",
        "  high = rows*columns -1\n",
        "  while (low<=high):\n",
        "    mid = (low+high)//2\n",
        "    if ( matrix[mid//columns][mid%columns] == target):\n",
        "      return True\n",
        "    elif matrix[mid//columns][mid%columns] <  target:\n",
        "      low = mid+1\n",
        "    else:\n",
        "      high = mid-1\n"
      ],
      "execution_count": 23,
      "outputs": []
    },
    {
      "cell_type": "code",
      "metadata": {
        "colab": {
          "base_uri": "https://localhost:8080/"
        },
        "id": "tes9COD_zt6y",
        "outputId": "b8f95937-aebb-47cd-fe6c-c46ece7f0901"
      },
      "source": [
        "matrix = [[1,3,5,7],[10,11,16,20],[23,30,34,50]]\n",
        "target = 16\n",
        "print(searchInMatrix(matrx,target))"
      ],
      "execution_count": 27,
      "outputs": [
        {
          "output_type": "stream",
          "text": [
            "True\n"
          ],
          "name": "stdout"
        }
      ]
    }
  ]
}