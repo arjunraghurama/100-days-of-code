{
  "nbformat": 4,
  "nbformat_minor": 0,
  "metadata": {
    "colab": {
      "name": "Untitled5.ipynb",
      "provenance": [],
      "authorship_tag": "ABX9TyOZ8lsq6SeU+tWBjsKk+sfg",
      "include_colab_link": true
    },
    "kernelspec": {
      "name": "python3",
      "display_name": "Python 3"
    }
  },
  "cells": [
    {
      "cell_type": "markdown",
      "metadata": {
        "id": "view-in-github",
        "colab_type": "text"
      },
      "source": [
        "<a href=\"https://colab.research.google.com/github/arjunraghurama/100-days-of-code/blob/main/3.validParantheses.ipynb\" target=\"_parent\"><img src=\"https://colab.research.google.com/assets/colab-badge.svg\" alt=\"Open In Colab\"/></a>"
      ]
    },
    {
      "cell_type": "code",
      "metadata": {
        "id": "XEF4-M97qiq-"
      },
      "source": [
        "s = \"()[]{}\"\n",
        "\n",
        "def validParentheses(s):\n",
        "      if (len(s)) < 2 :\n",
        "        return False\n",
        "      bracketMap = {'(':')','{':'}','[':']'}\n",
        "      stack = []\n",
        "      for parantheses in s:\n",
        "        if parantheses == '(' or parantheses =='{' or parantheses == '[':\n",
        "          stack.append(parantheses)\n",
        "        else:\n",
        "          if(len(stack)<1):\n",
        "                return False\n",
        "          c = stack.pop()\n",
        "          if ( parantheses != bracketMap[c] ) :\n",
        "            return False\n",
        "\n",
        "      return True if len(stack) == 0 else False"
      ],
      "execution_count": null,
      "outputs": []
    }
  ]
}