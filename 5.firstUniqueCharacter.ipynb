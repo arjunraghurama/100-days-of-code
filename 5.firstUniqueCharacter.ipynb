{
  "nbformat": 4,
  "nbformat_minor": 0,
  "metadata": {
    "colab": {
      "name": "Untitled7.ipynb",
      "provenance": [],
      "authorship_tag": "ABX9TyNwoyT2sqAnSxHrmzRN96jN",
      "include_colab_link": true
    },
    "kernelspec": {
      "name": "python3",
      "display_name": "Python 3"
    }
  },
  "cells": [
    {
      "cell_type": "markdown",
      "metadata": {
        "id": "view-in-github",
        "colab_type": "text"
      },
      "source": [
        "<a href=\"https://colab.research.google.com/github/arjunraghurama/100-days-of-code/blob/main/5.firstUniqueCharacter.ipynb\" target=\"_parent\"><img src=\"https://colab.research.google.com/assets/colab-badge.svg\" alt=\"Open In Colab\"/></a>"
      ]
    },
    {
      "cell_type": "markdown",
      "metadata": {
        "id": "hh-nBPlOWBBe"
      },
      "source": [
        "First unique character in a string\n",
        "\n",
        "Return the index of unique string\n",
        "\n",
        "https://leetcode.com/problems/first-unique-character-in-a-string/"
      ]
    },
    {
      "cell_type": "code",
      "metadata": {
        "id": "YRSQS-acUDfC"
      },
      "source": [
        "def function(givenString):\n",
        "  hashMap={}\n",
        "  for letter in givenString:\n",
        "    if hashMap.get(letter) :\n",
        "      hashMap[letter]+=1\n",
        "    else :\n",
        "      hashMap[letter]=1\n",
        "  for i, letter in enumerate(givenString):\n",
        "    if hashMap.get(letter) ==1:\n",
        "      return i\n",
        "    else:\n",
        "      continue\n",
        "  return -1"
      ],
      "execution_count": 3,
      "outputs": []
    },
    {
      "cell_type": "code",
      "metadata": {
        "colab": {
          "base_uri": "https://localhost:8080/"
        },
        "id": "yM06kYYMWmQv",
        "outputId": "82c4eeae-aec1-48a4-8e37-3e37f867feac"
      },
      "source": [
        "function(\"loveleetcode\")"
      ],
      "execution_count": 5,
      "outputs": [
        {
          "output_type": "execute_result",
          "data": {
            "text/plain": [
              "2"
            ]
          },
          "metadata": {
            "tags": []
          },
          "execution_count": 5
        }
      ]
    },
    {
      "cell_type": "code",
      "metadata": {
        "colab": {
          "base_uri": "https://localhost:8080/"
        },
        "id": "KEOdvlezWRgm",
        "outputId": "d7367efc-0157-465a-9345-ab49b87a38e1"
      },
      "source": [
        "function(\"leetcode\")"
      ],
      "execution_count": 4,
      "outputs": [
        {
          "output_type": "execute_result",
          "data": {
            "text/plain": [
              "0"
            ]
          },
          "metadata": {
            "tags": []
          },
          "execution_count": 4
        }
      ]
    },
    {
      "cell_type": "markdown",
      "metadata": {
        "id": "Y_2S9fNwV-oU"
      },
      "source": [
        ""
      ]
    }
  ]
}