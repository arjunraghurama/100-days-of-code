{
  "nbformat": 4,
  "nbformat_minor": 0,
  "metadata": {
    "colab": {
      "name": "Untitled6.ipynb",
      "provenance": [],
      "authorship_tag": "ABX9TyOkmyeiSIU61DQJG+4+FPk5",
      "include_colab_link": true
    },
    "kernelspec": {
      "name": "python3",
      "display_name": "Python 3"
    }
  },
  "cells": [
    {
      "cell_type": "markdown",
      "metadata": {
        "id": "view-in-github",
        "colab_type": "text"
      },
      "source": [
        "<a href=\"https://colab.research.google.com/github/arjunraghurama/100-days-of-code/blob/main/4.firstRepeatingCharacter.ipynb\" target=\"_parent\"><img src=\"https://colab.research.google.com/assets/colab-badge.svg\" alt=\"Open In Colab\"/></a>"
      ]
    },
    {
      "cell_type": "markdown",
      "metadata": {
        "id": "LA7jfIrCRFbd"
      },
      "source": [
        "First repeating character in a string"
      ]
    },
    {
      "cell_type": "code",
      "metadata": {
        "id": "RsFQiiooRMfz"
      },
      "source": [
        "def function(givenString):\n",
        "  if len(givenString) < 2:\n",
        "    return givenString\n",
        "  givenString = givenString.lower()\n",
        "  hashMap={}\n",
        "  for letter in givenString:\n",
        "    if hashMap.get(letter) :\n",
        "      return letter\n",
        "    else :\n",
        "      hashMap[letter]=True\n",
        "  return \"\""
      ],
      "execution_count": 13,
      "outputs": []
    },
    {
      "cell_type": "code",
      "metadata": {
        "colab": {
          "base_uri": "https://localhost:8080/",
          "height": 35
        },
        "id": "3Wo6wh71SCv3",
        "outputId": "66c02fe1-d617-45c8-8d71-af8551f524ae"
      },
      "source": [
        "function(\"Tentative\")"
      ],
      "execution_count": 15,
      "outputs": [
        {
          "output_type": "execute_result",
          "data": {
            "application/vnd.google.colaboratory.intrinsic+json": {
              "type": "string"
            },
            "text/plain": [
              "'t'"
            ]
          },
          "metadata": {
            "tags": []
          },
          "execution_count": 15
        }
      ]
    }
  ]
}
