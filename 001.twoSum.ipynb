{
  "nbformat": 4,
  "nbformat_minor": 0,
  "metadata": {
    "colab": {
      "name": "Copy of Untitled3.ipynb",
      "provenance": [],
      "authorship_tag": "ABX9TyOGlMhi+4/7aJ7RFiB1ldrJ",
      "include_colab_link": true
    },
    "kernelspec": {
      "name": "python3",
      "display_name": "Python 3"
    }
  },
  "cells": [
    {
      "cell_type": "markdown",
      "metadata": {
        "id": "view-in-github",
        "colab_type": "text"
      },
      "source": [
        "<a href=\"https://colab.research.google.com/github/arjunraghurama/100-days-of-code/blob/main/1.twoSum.ipynb\" target=\"_parent\"><img src=\"https://colab.research.google.com/assets/colab-badge.svg\" alt=\"Open In Colab\"/></a>"
      ]
    },
    {
      "cell_type": "code",
      "metadata": {
        "id": "APpBwMscqrqG"
      },
      "source": [
        "arr = [3,5,-4,8,11,1,-1,5]\n",
        "sum =10"
      ],
      "execution_count": null,
      "outputs": []
    },
    {
      "cell_type": "code",
      "metadata": {
        "colab": {
          "base_uri": "https://localhost:8080/"
        },
        "id": "ICg2fR-5sSfN",
        "outputId": "ce23be48-e018-4249-9db0-c5ceae09b89a"
      },
      "source": [
        "hashTable={}\n",
        "for idx, element in enumerate(arr):\n",
        "  if(hashTable.get((sum-element))):\n",
        "    print('Num1 idx: ', hashTable.get((sum-element)))\n",
        "    print('Num2 idx: ', idx)\n",
        "    print(element, sum-element)\n",
        "  else:\n",
        "    hashTable[element]=idx"
      ],
      "execution_count": null,
      "outputs": [
        {
          "output_type": "stream",
          "text": [
            "Num1 idx:  4\n",
            "Num2 idx:  6\n",
            "-1 11\n",
            "Num1 idx:  1\n",
            "Num2 idx:  7\n",
            "5 5\n"
          ],
          "name": "stdout"
        }
      ]
    },
    {
      "cell_type": "code",
      "metadata": {
        "id": "CH6J5hhz5e_W",
        "colab": {
          "base_uri": "https://localhost:8080/"
        },
        "outputId": "acc1791e-315b-45ae-c6d8-c72392b2920e"
      },
      "source": [
        "arr.sort()\n",
        "start=0\n",
        "end=len(arr)-1\n",
        "print(arr)\n",
        "while (start<end):\n",
        "  if ((arr[start]+arr[end])==sum):\n",
        "    print('Found:',arr[start],arr[end])\n",
        "    start+=1\n",
        "    end-=1\n",
        "  elif ((arr[start]+arr[end])>sum):\n",
        "    end-=1\n",
        "  else:\n",
        "    start+=1"
      ],
      "execution_count": 7,
      "outputs": [
        {
          "output_type": "stream",
          "text": [
            "[-4, -1, 1, 3, 5, 5, 8, 11]\n",
            "Found: -1 11\n",
            "Found: 5 5\n"
          ],
          "name": "stdout"
        }
      ]
    }
  ]
}
