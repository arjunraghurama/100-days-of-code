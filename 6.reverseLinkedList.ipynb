{
  "nbformat": 4,
  "nbformat_minor": 0,
  "metadata": {
    "colab": {
      "name": "Untitled8.ipynb",
      "provenance": [],
      "authorship_tag": "ABX9TyO72xj0VEyjtJA2UJdO7JYt",
      "include_colab_link": true
    },
    "kernelspec": {
      "name": "python3",
      "display_name": "Python 3"
    }
  },
  "cells": [
    {
      "cell_type": "markdown",
      "metadata": {
        "id": "view-in-github",
        "colab_type": "text"
      },
      "source": [
        "<a href=\"https://colab.research.google.com/github/arjunraghurama/100-days-of-code/blob/main/6.reverseLinkedList.ipynb\" target=\"_parent\"><img src=\"https://colab.research.google.com/assets/colab-badge.svg\" alt=\"Open In Colab\"/></a>"
      ]
    },
    {
      "cell_type": "markdown",
      "metadata": {
        "id": "GEA25mN0DQ0w"
      },
      "source": [
        "Reverse a lined list\n",
        "\n",
        "https://leetcode.com/problems/reverse-linked-list/"
      ]
    },
    {
      "cell_type": "code",
      "metadata": {
        "id": "DpPBHqBvDUzF"
      },
      "source": [
        "# Definition for singly-linked list.\n",
        "# class ListNode:\n",
        "#     def __init__(self, val=0, next=None):\n",
        "#         self.val = val\n",
        "#         self.next = next\n",
        "class Solution:\n",
        "    def reverseList(self, head: ListNode) -> ListNode:\n",
        "        if head == None or head.next == None:\n",
        "            return head\n",
        "        \n",
        "        currNode = head\n",
        "        prevNode = None\n",
        "        nextNode = None\n",
        "        \n",
        "        while currNode != None:\n",
        "            nextNode = currNode.next\n",
        "            currNode.next = prevNode\n",
        "            prevNode= currNode\n",
        "            currNode=nextNode\n",
        "        \n",
        "        return prevNode"
      ],
      "execution_count": null,
      "outputs": []
    }
  ]
}